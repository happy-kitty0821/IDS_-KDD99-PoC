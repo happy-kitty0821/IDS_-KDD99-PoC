{
 "cells": [
  {
   "cell_type": "code",
   "execution_count": 2,
   "id": "cca31857-dc98-4fae-b6cf-f467e30c90ad",
   "metadata": {},
   "outputs": [],
   "source": [
    "#!/bin/python\n",
    "#this is going to be a simple rule based chat bot\n",
    "\n"
   ]
  },
  {
   "cell_type": "code",
   "execution_count": null,
   "id": "8e3ed602-a290-4a5b-9c81-97f848615ec5",
   "metadata": {},
   "outputs": [],
   "source": []
  }
 ],
 "metadata": {
  "kernelspec": {
   "display_name": "Python 3 (ipykernel)",
   "language": "python",
   "name": "python3"
  },
  "language_info": {
   "codemirror_mode": {
    "name": "ipython",
    "version": 3
   },
   "file_extension": ".py",
   "mimetype": "text/x-python",
   "name": "python",
   "nbconvert_exporter": "python",
   "pygments_lexer": "ipython3",
   "version": "3.11.8"
  }
 },
 "nbformat": 4,
 "nbformat_minor": 5
}
